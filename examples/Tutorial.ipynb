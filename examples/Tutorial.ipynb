{
  "cells": [
    {
      "cell_type": "markdown",
      "source": [
        "First download/import LogicCircuits"
      ],
      "metadata": {
        "nteract": {
          "transient": {
            "deleting": false
          }
        }
      }
    },
    {
      "cell_type": "code",
      "source": [
        "# import Pkg; Pkg.add(\"LogicCircuits\") # uncomment this if you have'n LogicCircuits\n",
        "using LogicCircuits "
      ],
      "outputs": [],
      "execution_count": 1,
      "metadata": {
        "collapsed": true,
        "outputExpanded": false,
        "jupyter": {
          "source_hidden": false,
          "outputs_hidden": false
        },
        "nteract": {
          "transient": {
            "deleting": false
          }
        },
        "execution": {
          "iopub.status.busy": "2020-06-11T14:45:00.349Z",
          "iopub.execute_input": "2020-06-11T14:45:01.711Z",
          "iopub.status.idle": "2020-06-11T14:45:10.040Z"
        }
      }
    },
    {
      "cell_type": "markdown",
      "source": [
        "Now let us \"use\" our local package (do not add/install this or you'll be using \"their\" package)"
      ],
      "metadata": {
        "nteract": {
          "transient": {
            "deleting": false
          }
        }
      }
    },
    {
      "cell_type": "code",
      "source": [
        "using ProbabilisticCircuits"
      ],
      "outputs": [],
      "execution_count": 2,
      "metadata": {
        "collapsed": true,
        "outputExpanded": false,
        "jupyter": {
          "source_hidden": false,
          "outputs_hidden": false
        },
        "nteract": {
          "transient": {
            "deleting": false
          }
        },
        "execution": {
          "iopub.status.busy": "2020-06-11T14:46:10.729Z",
          "iopub.execute_input": "2020-06-11T14:46:11.395Z",
          "iopub.status.idle": "2020-06-11T14:46:19.697Z"
        }
      }
    },
    {
      "cell_type": "markdown",
      "source": [
        "Now let's load some example psdd from the repository"
      ],
      "metadata": {
        "nteract": {
          "transient": {
            "deleting": false
          }
        }
      }
    },
    {
      "cell_type": "code",
      "source": [
        "psdd = zoo_psdd(\"little_4var.psdd\"); # PSDD over 4 variables"
      ],
      "outputs": [],
      "execution_count": 4,
      "metadata": {
        "collapsed": true,
        "outputExpanded": false,
        "jupyter": {
          "source_hidden": false,
          "outputs_hidden": false
        },
        "nteract": {
          "transient": {
            "deleting": false
          }
        },
        "execution": {
          "iopub.status.busy": "2020-06-11T14:47:51.072Z",
          "iopub.execute_input": "2020-06-11T14:47:51.075Z",
          "iopub.status.idle": "2020-06-11T14:47:51.091Z"
        }
      }
    },
    {
      "cell_type": "markdown",
      "source": [
        "A PSDD is internally simply a vector of ProbNodes"
      ],
      "metadata": {
        "nteract": {
          "transient": {
            "deleting": false
          }
        }
      }
    },
    {
      "cell_type": "code",
      "source": [
        "psdd isa Vector{<:ProbΔNode}"
      ],
      "outputs": [
        {
          "output_type": "execute_result",
          "execution_count": 47,
          "data": {
            "text/plain": [
              "true"
            ]
          },
          "metadata": {}
        }
      ],
      "execution_count": 47,
      "metadata": {
        "collapsed": true,
        "outputExpanded": false,
        "jupyter": {
          "source_hidden": false,
          "outputs_hidden": false
        },
        "nteract": {
          "transient": {
            "deleting": false
          }
        },
        "execution": {
          "iopub.status.busy": "2020-06-11T16:12:56.753Z",
          "iopub.execute_input": "2020-06-11T16:12:56.758Z",
          "iopub.status.idle": "2020-06-11T16:12:56.772Z"
        }
      }
    },
    {
      "cell_type": "markdown",
      "source": [
        "We can print some information about the PSDD"
      ],
      "metadata": {
        "nteract": {
          "transient": {
            "deleting": false
          }
        }
      }
    },
    {
      "cell_type": "code",
      "source": [
        "println(\"PSDD has $(size(psdd)[1]) nodes.\")\n",
        "println(\"PSDD has $(num_parameters(psdd)) parameters.\")"
      ],
      "outputs": [
        {
          "output_type": "stream",
          "name": "stdout",
          "text": [
            "PSDD has 20 nodes.\n",
            "PSDD has 9 parameters.\n"
          ]
        }
      ],
      "execution_count": 18,
      "metadata": {
        "collapsed": true,
        "outputExpanded": false,
        "jupyter": {
          "source_hidden": false,
          "outputs_hidden": false
        },
        "nteract": {
          "transient": {
            "deleting": false
          }
        },
        "execution": {
          "iopub.status.busy": "2020-06-11T15:53:47.100Z",
          "iopub.execute_input": "2020-06-11T15:53:47.105Z",
          "iopub.status.idle": "2020-06-11T15:53:47.166Z"
        }
      }
    },
    {
      "cell_type": "markdown",
      "source": [
        "Now let's computes the marginal probability of some evidence.\n",
        "We first create a one-row Matrix `XData` containing assigments for each variable. 1 means `True`, 0 means `False`, -1 means missing or marginalized."
      ],
      "metadata": {
        "nteract": {
          "transient": {
            "deleting": false
          }
        }
      }
    },
    {
      "cell_type": "code",
      "source": [
        "evidence = XData(Int8.([1 1 -1 -1]));"
      ],
      "outputs": [],
      "execution_count": 11,
      "metadata": {
        "collapsed": true,
        "outputExpanded": false,
        "jupyter": {
          "source_hidden": false,
          "outputs_hidden": false
        },
        "nteract": {
          "transient": {
            "deleting": false
          }
        },
        "execution": {
          "iopub.status.busy": "2020-06-11T15:14:46.503Z",
          "iopub.execute_input": "2020-06-11T15:14:46.507Z",
          "iopub.status.idle": "2020-06-11T15:14:46.512Z"
        }
      }
    },
    {
      "cell_type": "markdown",
      "source": [
        "Now compute the log probability of that evidence."
      ],
      "metadata": {
        "nteract": {
          "transient": {
            "deleting": false
          }
        }
      }
    },
    {
      "cell_type": "code",
      "source": [
        "logprob = log_proba(psdd, evidence) # note that the output is an array since the input is also an array"
      ],
      "outputs": [
        {
          "output_type": "execute_result",
          "execution_count": 13,
          "data": {
            "text/plain": [
              "1-element Array{Float64,1}:\n",
              " -2.3025850929940455"
            ]
          },
          "metadata": {}
        }
      ],
      "execution_count": 13,
      "metadata": {
        "collapsed": true,
        "outputExpanded": false,
        "jupyter": {
          "source_hidden": false,
          "outputs_hidden": false
        },
        "nteract": {
          "transient": {
            "deleting": false
          }
        },
        "execution": {
          "iopub.status.busy": "2020-06-11T15:16:19.545Z",
          "iopub.execute_input": "2020-06-11T15:16:19.548Z",
          "iopub.status.idle": "2020-06-11T15:16:19.556Z"
        }
      }
    },
    {
      "cell_type": "markdown",
      "source": [
        "To convert it into a probability value we just need to exponentiate it.  "
      ],
      "metadata": {
        "nteract": {
          "transient": {
            "deleting": false
          }
        }
      }
    },
    {
      "cell_type": "code",
      "source": [
        "exp(logprob[1])"
      ],
      "outputs": [
        {
          "output_type": "execute_result",
          "execution_count": 14,
          "data": {
            "text/plain": [
              "0.10000000000000002"
            ]
          },
          "metadata": {}
        }
      ],
      "execution_count": 14,
      "metadata": {
        "collapsed": true,
        "outputExpanded": false,
        "jupyter": {
          "source_hidden": false,
          "outputs_hidden": false
        },
        "nteract": {
          "transient": {
            "deleting": false
          }
        },
        "execution": {
          "iopub.status.busy": "2020-06-11T15:19:03.343Z",
          "iopub.execute_input": "2020-06-11T15:19:03.349Z",
          "iopub.status.idle": "2020-06-11T15:19:03.668Z"
        }
      }
    },
    {
      "cell_type": "markdown",
      "source": [
        "We can compute probabilities for multiple evidences"
      ],
      "metadata": {
        "nteract": {
          "transient": {
            "deleting": false
          }
        }
      }
    },
    {
      "cell_type": "code",
      "source": [
        "data = XData(Int8.([1 1 -1 -1; \n",
        "                    1 0 -1 -1; \n",
        "                    0 1 -1 -1; \n",
        "                    0 0 -1 -1]))\n",
        "exp.(log_proba(psdd,data)) # the values should add up to one."
      ],
      "outputs": [
        {
          "output_type": "execute_result",
          "execution_count": 23,
          "data": {
            "text/plain": [
              "4-element Array{Float64,1}:\n",
              " 0.10000000000000002\n",
              " 0.10000000000000002\n",
              " 0.10000000000000002\n",
              " 0.6999999999999998 "
            ]
          },
          "metadata": {}
        }
      ],
      "execution_count": 23,
      "metadata": {
        "collapsed": true,
        "outputExpanded": false,
        "jupyter": {
          "source_hidden": false,
          "outputs_hidden": false
        },
        "nteract": {
          "transient": {
            "deleting": false
          }
        },
        "execution": {
          "iopub.status.busy": "2020-06-11T15:58:27.743Z",
          "iopub.execute_input": "2020-06-11T15:58:27.748Z",
          "iopub.status.idle": "2020-06-11T15:58:27.756Z"
        }
      }
    },
    {
      "cell_type": "markdown",
      "source": [
        "This generates all possible complete evidences, then compute their probabilities"
      ],
      "metadata": {
        "nteract": {
          "transient": {
            "deleting": false
          }
        }
      }
    },
    {
      "cell_type": "code",
      "source": [
        "sample_space = XData(generate_data_all(4)) # because we have 4 variables\n",
        "probs = exp.(log_proba(psdd,sample_space))\n",
        "sum(probs) # ≈ 1"
      ],
      "outputs": [
        {
          "output_type": "execute_result",
          "execution_count": 35,
          "data": {
            "text/plain": [
              "1.0000000000000002"
            ]
          },
          "metadata": {}
        }
      ],
      "execution_count": 35,
      "metadata": {
        "collapsed": true,
        "outputExpanded": false,
        "jupyter": {
          "source_hidden": false,
          "outputs_hidden": false
        },
        "nteract": {
          "transient": {
            "deleting": false
          }
        },
        "execution": {
          "iopub.status.busy": "2020-06-11T16:07:44.586Z",
          "iopub.execute_input": "2020-06-11T16:07:44.592Z",
          "iopub.status.idle": "2020-06-11T16:07:44.603Z"
        }
      }
    },
    {
      "cell_type": "markdown",
      "source": [
        "Let's generate some data using the PSDD"
      ],
      "metadata": {
        "nteract": {
          "transient": {
            "deleting": false
          }
        }
      }
    },
    {
      "cell_type": "code",
      "source": [
        "using DataStructures # to use a dictionary for the tally\n",
        "hist = DefaultDict{AbstractString,Float64}(0.0) # instance tally \n",
        "\n",
        "N = 1000 # no. of samples\n",
        "for i = 1:N\n",
        "    cur = join(Int.(sample(psdd))) # string representation of evidence\n",
        "    hist[cur] += 1\n",
        "end"
      ],
      "outputs": [],
      "execution_count": 42,
      "metadata": {
        "collapsed": true,
        "outputExpanded": false,
        "jupyter": {
          "source_hidden": false,
          "outputs_hidden": false
        },
        "nteract": {
          "transient": {
            "deleting": false
          }
        },
        "execution": {
          "iopub.status.busy": "2020-06-11T16:09:28.386Z",
          "iopub.execute_input": "2020-06-11T16:09:28.391Z",
          "iopub.status.idle": "2020-06-11T16:09:28.399Z"
        }
      }
    },
    {
      "cell_type": "code",
      "source": [
        "for k in keys(hist)\n",
        "        hist[k] /= N       \n",
        "end"
      ],
      "outputs": [],
      "execution_count": 43,
      "metadata": {
        "collapsed": true,
        "outputExpanded": false,
        "jupyter": {
          "source_hidden": false,
          "outputs_hidden": false
        },
        "nteract": {
          "transient": {
            "deleting": false
          }
        },
        "execution": {
          "iopub.status.busy": "2020-06-11T16:09:28.922Z",
          "iopub.execute_input": "2020-06-11T16:09:28.927Z",
          "iopub.status.idle": "2020-06-11T16:09:28.935Z"
        }
      }
    },
    {
      "cell_type": "code",
      "source": [
        " for k in keys(hist)\n",
        "        cur = parse(Int32, k, base=2) + 1\n",
        "        println(\"Prob($k) = $(probs[cur]) ≈ $(hist[k])\")\n",
        " end"
      ],
      "outputs": [
        {
          "output_type": "stream",
          "name": "stdout",
          "text": [
            "Prob(0011) = 0.14 ≈ 0.153\n",
            "Prob(0110) = 0.029999999999999995 ≈ 0.036\n",
            "Prob(1100) = 0.010000000000000005 ≈ 0.002\n",
            "Prob(1011) = 0.02000000000000001 ≈ 0.023\n",
            "Prob(0001) = 0.27999999999999997 ≈ 0.293\n",
            "Prob(1001) = 0.04000000000000001 ≈ 0.041\n",
            "Prob(1110) = 0.029999999999999995 ≈ 0.019\n",
            "Prob(1101) = 0.04000000000000001 ≈ 0.037\n",
            "Prob(1010) = 0.029999999999999995 ≈ 0.022\n",
            "Prob(0010) = 0.20999999999999996 ≈ 0.212\n",
            "Prob(0101) = 0.04000000000000001 ≈ 0.039\n",
            "Prob(1111) = 0.02000000000000001 ≈ 0.019\n",
            "Prob(1000) = 0.010000000000000005 ≈ 0.005\n",
            "Prob(0100) = 0.010000000000000005 ≈ 0.008\n",
            "Prob(0000) = 0.07 ≈ 0.07\n",
            "Prob(0111) = 0.02000000000000001 ≈ 0.021\n"
          ]
        }
      ],
      "execution_count": 44,
      "metadata": {
        "collapsed": true,
        "outputExpanded": false,
        "jupyter": {
          "source_hidden": false,
          "outputs_hidden": false
        },
        "nteract": {
          "transient": {
            "deleting": false
          }
        },
        "execution": {
          "iopub.status.busy": "2020-06-11T16:09:29.417Z",
          "iopub.execute_input": "2020-06-11T16:09:29.423Z",
          "iopub.status.idle": "2020-06-11T16:09:29.434Z"
        }
      }
    },
    {
      "cell_type": "markdown",
      "source": [
        "We can print out the PSDD as a dot file (then generate a picture using graphviz's dot command)"
      ],
      "metadata": {
        "nteract": {
          "transient": {
            "deleting": false
          }
        }
      }
    },
    {
      "cell_type": "code",
      "source": [
        "save_as_dot(psdd, \"psdd.dot\")"
      ],
      "outputs": [],
      "execution_count": null,
      "metadata": {
        "collapsed": true,
        "outputExpanded": false,
        "jupyter": {
          "source_hidden": false,
          "outputs_hidden": false
        },
        "nteract": {
          "transient": {
            "deleting": false
          }
        }
      }
    },
    {
      "cell_type": "markdown",
      "source": [
        "Assuming you have run \"dot -Tpng -O psdd.dot\" in the examples folder, we can draw the corresponding image.\n",
        "\n",
        "<img src=\"psdd.dot.png\" />"
      ],
      "metadata": {
        "nteract": {
          "transient": {
            "deleting": false
          }
        }
      }
    },
    {
      "cell_type": "markdown",
      "source": [],
      "metadata": {
        "nteract": {
          "transient": {
            "deleting": false
          }
        }
      }
    }
  ],
  "metadata": {
    "kernel_info": {
      "name": "julia-1.3"
    },
    "language_info": {
      "file_extension": ".jl",
      "name": "julia",
      "mimetype": "application/julia",
      "version": "1.3.1"
    },
    "kernelspec": {
      "argv": [
        "/Applications/Julia-1.3.app/Contents/Resources/julia/bin/julia",
        "-i",
        "--startup-file=yes",
        "--color=yes",
        "--project=@.",
        "/Users/denis/.julia/packages/IJulia/yLI42/src/kernel.jl",
        "{connection_file}"
      ],
      "display_name": "Julia 1.3.1",
      "env": {},
      "interrupt_mode": "signal",
      "language": "julia",
      "name": "julia-1.3"
    },
    "nteract": {
      "version": "0.23.1"
    }
  },
  "nbformat": 4,
  "nbformat_minor": 0
}